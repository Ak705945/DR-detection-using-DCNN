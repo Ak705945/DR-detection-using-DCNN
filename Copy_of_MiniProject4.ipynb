{
  "nbformat": 4,
  "nbformat_minor": 0,
  "metadata": {
    "colab": {
      "name": "Copy of MiniProject4.ipynb",
      "provenance": [],
      "collapsed_sections": [],
      "mount_file_id": "1fSA3tq7t9hz1T1mcE7gDNIe2v-Dndc9t",
      "authorship_tag": "ABX9TyN9bnLL+vvVJDHlQeYO20qZ",
      "include_colab_link": true
    },
    "kernelspec": {
      "name": "python3",
      "display_name": "Python 3"
    },
    "accelerator": "GPU"
  },
  "cells": [
    {
      "cell_type": "markdown",
      "metadata": {
        "id": "view-in-github",
        "colab_type": "text"
      },
      "source": [
        "<a href=\"https://colab.research.google.com/github/Ak705945/DR-detection-using-DCNN/blob/main/Copy_of_MiniProject4.ipynb\" target=\"_parent\"><img src=\"https://colab.research.google.com/assets/colab-badge.svg\" alt=\"Open In Colab\"/></a>"
      ]
    },
    {
      "cell_type": "code",
      "metadata": {
        "id": "RaHtOE7ugmIg"
      },
      "source": [
        "from tensorflow.keras.preprocessing.image import ImageDataGenerator\n",
        "import numpy as np\n",
        "import os\n",
        "import PIL\n",
        "import PIL.Image\n",
        "import tensorflow as tf\n",
        "\n",
        "import tensorflow_datasets as tfds\n",
        "from keras.models import Sequential,Model\n",
        "from keras.applications.resnet50 import ResNet50\n",
        "from keras.layers import Conv2D,MaxPooling2D,Dense,Flatten,Dropout,Activation,BatchNormalization,concatenate,Input\n",
        "from keras import losses\n",
        "from keras.optimizers import Adam, Adagrad,SGD\n",
        "from keras.callbacks import EarlyStopping\n",
        "from keras import regularizers\n",
        "from keras.models import model_from_json\n",
        "from sklearn.model_selection import GridSearchCV\n",
        "import keras\n",
        "from keras.preprocessing import image\n",
        "from keras.layers import LeakyReLU\n",
        "import os\n",
        "from google.colab import files"
      ],
      "execution_count": null,
      "outputs": []
    },
    {
      "cell_type": "code",
      "metadata": {
        "id": "WXvy1sqfg0RM"
      },
      "source": [
        "import zipfile      #this block loads the data and extracts it in colab's storage\n",
        "local_zip = '/content/drive/My Drive/Data/Copy of gaussian_filtered_images.zip'    # enter the dataset's zip folder location\n",
        "zip_ref = zipfile.ZipFile(local_zip, 'r')\n",
        "zip_ref.extractall('/content')    #enter destination location\n",
        "\n",
        "zip_ref.close()"
      ],
      "execution_count": null,
      "outputs": []
    },
    {
      "cell_type": "code",
      "metadata": {
        "id": "-jqSoTXLg9h2"
      },
      "source": [
        "train_path='/content/gaussian_filtered_images'      # location of the training dataset\n"
      ],
      "execution_count": null,
      "outputs": []
    },
    {
      "cell_type": "code",
      "metadata": {
        "id": "d5pgFvlnhNOa"
      },
      "source": [
        "from tensorflow.keras.applications.inception_v3 import InceptionV3      #model with the use of transfer learning on InceptionV3\n",
        "from keras.regularizers import l1_l2,l1,l2\n",
        "\n",
        "input_tensor = Input(shape=(224, 224, 3))\n",
        "\n",
        "base_model = InceptionV3(input_tensor=input_tensor, weights='imagenet', include_top=False)    # added inceptionV3 architecture\n",
        "\n",
        "# add a global spatial average pooling layer\n",
        "x = base_model.output\n",
        "x=Flatten()(x)\n",
        "x = Dropout(0.4)(x)\n",
        "final_output = Dense(5, activation='softmax', name='final_output')(x)\n",
        "model = Model(inputs=input_tensor, outputs=final_output)\n",
        "\n",
        "\n",
        "model.compile(loss=keras.losses.categorical_crossentropy, optimizer=keras.optimizers.Adam(beta_1=0.9,beta_2=0.999,epsilon=1e-08,learning_rate=0.0001), metrics=[\"accuracy\"])\n",
        "model.summary()"
      ],
      "execution_count": null,
      "outputs": []
    },
    {
      "cell_type": "code",
      "metadata": {
        "id": "FbGtAeWVhXfS",
        "colab": {
          "base_uri": "https://localhost:8080/"
        },
        "outputId": "a4cd206c-c774-40a0-b21b-a99957e181fe"
      },
      "source": [
        "from tensorflow.keras.preprocessing.image import ImageDataGenerator         # image datagen for preparing training and test set using image data augmentation\n",
        "\n",
        "# All images will be rescaled by 1./255\n",
        "train_datagen = ImageDataGenerator(rescale=1/255,validation_split=0.2,rotation_range=40,\n",
        "      width_shift_range=0.2,\n",
        "      height_shift_range=0.2,\n",
        "      zoom_range=0.2,\n",
        "      horizontal_flip=True,\n",
        "      fill_mode='nearest')\n",
        "train_generator = train_datagen.flow_from_directory( train_path,      #creating train data generator and test data genarator\n",
        "\n",
        "    target_size=(224,224),\n",
        "    batch_size=32\n",
        "    ,shuffle=True,class_mode='categorical',\n",
        "    subset='training',\n",
        "\n",
        ")\n",
        "validation_generator = train_datagen.flow_from_directory( train_path,\n",
        "     #   '../input/test_resizedvgg net/',\n",
        "        target_size=(224,224),\n",
        "        batch_size=32,\n",
        "        shuffle=True,\n",
        "        class_mode='categorical',\n",
        "    subset='validation'\n",
        "        )"
      ],
      "execution_count": null,
      "outputs": [
        {
          "output_type": "stream",
          "text": [
            "Found 2931 images belonging to 5 classes.\n",
            "Found 731 images belonging to 5 classes.\n"
          ],
          "name": "stdout"
        }
      ]
    },
    {
      "cell_type": "code",
      "metadata": {
        "id": "rpHBfsQ6hils",
        "colab": {
          "base_uri": "https://localhost:8080/"
        },
        "outputId": "13025071-c81b-43ff-f8c0-1faf1d9bee3b"
      },
      "source": [
        "# model.compile(loss=keras.losses.categorical_crossentropy, optimizer=SGD(lr=0.001), metrics=[\"accuracy\"])\n",
        "from collections import Counter\n",
        "counter = Counter(train_generator.classes)                          \n",
        "max_val = float(max(counter.values()))       \n",
        "class_weights = {class_id : max_val/num_images for class_id, num_images in counter.items()}\n",
        "class CustomCallback(tf.keras.callbacks.Callback):\n",
        "        def on_epoch_end(self,epoch,logs={}):\n",
        "            if(logs['accuracy']>0.8 and logs['val_accuracy']>0.78):\n",
        "                print(\"\\n Desired acc reached\")\n",
        "                model.stop_training = True\n",
        "\n",
        "modelhist = model.fit(\n",
        "        train_generator,\n",
        "        epochs=25,\n",
        "        validation_data=validation_generator,\n",
        "        class_weight=class_weights,\n",
        "        callbacks=[CustomCallback()]\n",
        "        )"
      ],
      "execution_count": null,
      "outputs": [
        {
          "output_type": "stream",
          "text": [
            "Epoch 1/25\n",
            "92/92 [==============================] - 56s 613ms/step - loss: 3.6917 - accuracy: 0.4995 - val_loss: 3.2436 - val_accuracy: 0.5075\n",
            "Epoch 2/25\n",
            "92/92 [==============================] - 55s 600ms/step - loss: 2.9640 - accuracy: 0.5899 - val_loss: 1.1422 - val_accuracy: 0.6347\n",
            "Epoch 3/25\n",
            "92/92 [==============================] - 55s 593ms/step - loss: 2.6520 - accuracy: 0.6462 - val_loss: 0.8078 - val_accuracy: 0.6443\n",
            "Epoch 4/25\n",
            "92/92 [==============================] - 54s 592ms/step - loss: 2.5449 - accuracy: 0.6557 - val_loss: 0.7098 - val_accuracy: 0.7114\n",
            "Epoch 5/25\n",
            "92/92 [==============================] - 54s 590ms/step - loss: 2.3926 - accuracy: 0.6957 - val_loss: 1.1100 - val_accuracy: 0.5540\n",
            "Epoch 6/25\n",
            "92/92 [==============================] - 56s 614ms/step - loss: 2.2655 - accuracy: 0.7001 - val_loss: 0.8612 - val_accuracy: 0.6430\n",
            "Epoch 7/25\n",
            "92/92 [==============================] - 56s 610ms/step - loss: 2.1615 - accuracy: 0.7233 - val_loss: 0.6759 - val_accuracy: 0.7059\n",
            "Epoch 8/25\n",
            "92/92 [==============================] - 56s 611ms/step - loss: 2.0241 - accuracy: 0.7424 - val_loss: 0.6784 - val_accuracy: 0.7360\n",
            "Epoch 9/25\n",
            "92/92 [==============================] - 56s 610ms/step - loss: 1.9481 - accuracy: 0.7547 - val_loss: 0.8201 - val_accuracy: 0.6813\n",
            "Epoch 10/25\n",
            "92/92 [==============================] - 56s 609ms/step - loss: 1.9018 - accuracy: 0.7462 - val_loss: 0.6136 - val_accuracy: 0.7647\n",
            "Epoch 11/25\n",
            "92/92 [==============================] - 56s 608ms/step - loss: 1.7627 - accuracy: 0.7714 - val_loss: 0.6978 - val_accuracy: 0.7127\n",
            "Epoch 12/25\n",
            "92/92 [==============================] - 55s 603ms/step - loss: 1.7305 - accuracy: 0.7823 - val_loss: 0.7814 - val_accuracy: 0.7278\n",
            "Epoch 13/25\n",
            "92/92 [==============================] - 56s 609ms/step - loss: 1.6759 - accuracy: 0.7776 - val_loss: 0.7518 - val_accuracy: 0.7237\n",
            "Epoch 14/25\n",
            "92/92 [==============================] - 56s 606ms/step - loss: 1.4705 - accuracy: 0.7997 - val_loss: 0.6532 - val_accuracy: 0.7401\n",
            "Epoch 15/25\n",
            "92/92 [==============================] - 56s 609ms/step - loss: 1.4752 - accuracy: 0.8076 - val_loss: 0.6866 - val_accuracy: 0.7387\n",
            "Epoch 16/25\n",
            "92/92 [==============================] - 56s 610ms/step - loss: 1.4178 - accuracy: 0.8144 - val_loss: 0.6703 - val_accuracy: 0.7647\n",
            "Epoch 17/25\n",
            "92/92 [==============================] - 56s 610ms/step - loss: 1.3576 - accuracy: 0.8226 - val_loss: 0.6944 - val_accuracy: 0.7565\n",
            "Epoch 18/25\n",
            "92/92 [==============================] - ETA: 0s - loss: 1.3378 - accuracy: 0.8216\n",
            " Desired acc reached\n",
            "92/92 [==============================] - 56s 609ms/step - loss: 1.3378 - accuracy: 0.8216 - val_loss: 0.6239 - val_accuracy: 0.7948\n"
          ],
          "name": "stdout"
        }
      ]
    },
    {
      "cell_type": "code",
      "metadata": {
        "id": "98xKQPR2hmIo",
        "colab": {
          "base_uri": "https://localhost:8080/"
        },
        "outputId": "626bbca6-cb30-487c-dce4-7ad7acd179fd"
      },
      "source": [
        "model_name = 'Test-79.4 Train-82.1.h5'     #this block is to save the trained model\n",
        "save_dir = '/content/Model' #directory where to save the model\n",
        "# Save model and weights\n",
        "if not os.path.isdir(save_dir):\n",
        "    os.makedirs(save_dir)\n",
        "model_path = os.path.join(save_dir, model_name)\n",
        "model.save(model_path)\n",
        "print('Saved trained model at %s ' % model_path)"
      ],
      "execution_count": null,
      "outputs": [
        {
          "output_type": "stream",
          "text": [
            "Saved trained model at /content/Model/Test-79.4 Train-82.1.h5 \n"
          ],
          "name": "stdout"
        }
      ]
    },
    {
      "cell_type": "code",
      "metadata": {
        "id": "YdqmgHIi-R8V",
        "colab": {
          "base_uri": "https://localhost:8080/",
          "height": 295
        },
        "outputId": "e499f64c-9b37-49d3-c54d-a250976fc86b"
      },
      "source": [
        "import matplotlib.pyplot as plt\n",
        "plt.plot(modelhist.history['loss'])\n",
        "plt.plot(modelhist.history['val_loss'])\n",
        "plt.title('model loss')\n",
        "plt.ylabel('loss')\n",
        "plt.xlabel('epoch')\n",
        "plt.legend(['train', 'test'], loc='upper left')\n",
        "plt.show()\n",
        "plt.savefig(\"km_loss.png\")\n",
        "plt.close()"
      ],
      "execution_count": null,
      "outputs": [
        {
          "output_type": "display_data",
          "data": {
            "image/png": "[encoded data removed]",
            "text/plain": [
              "<Figure size 432x288 with 1 Axes>"
            ]
          },
          "metadata": {
            "tags": [],
            "needs_background": "light"
          }
        }
      ]
    },
    {
      "cell_type": "code",
      "metadata": {
        "id": "Aw37JehdECDM",
        "colab": {
          "base_uri": "https://localhost:8080/",
          "height": 295
        },
        "outputId": "20039162-3a5e-46ed-a09d-e319d7df723e"
      },
      "source": [
        "import matplotlib.pyplot as plt\n",
        "plt.plot(modelhist.history['accuracy'])\n",
        "plt.plot(modelhist.history['val_accuracy'])\n",
        "plt.title('model accuracy')\n",
        "plt.ylabel('accuracy')\n",
        "plt.xlabel('epoch')\n",
        "plt.legend(['train', 'test'], loc='upper left')\n",
        "plt.show()\n",
        "plt.savefig(\"km_accuracy.png\")\n",
        "plt.close()"
      ],
      "execution_count": null,
      "outputs": [
        {
          "output_type": "display_data",
          "data": {
            "image/png": "[encoded data removed]",
            "text/plain": [
              "<Figure size 432x288 with 1 Axes>"
            ]
          },
          "metadata": {
            "tags": [],
            "needs_background": "light"
          }
        }
      ]
    },
    {
      "cell_type": "code",
      "metadata": {
        "id": "j89f3b6A-Y9J"
      },
      "source": [
        "loaded_model = keras.models.load_model('/content/drive/MyDrive/Model/Test-79.4 Train-82.1.h5')   # to load a pretrained model\n",
        "loaded_model.summary()"
      ],
      "execution_count": null,
      "outputs": []
    },
    {
      "cell_type": "code",
      "metadata": {
        "id": "v2RZSTtcDBmn",
        "colab": {
          "base_uri": "https://localhost:8080/"
        },
        "outputId": "4e581a71-9e2c-40ef-9657-3673a7e73c68"
      },
      "source": [
        "loaded_model.evaluate_generator(validation_generator)"
      ],
      "execution_count": null,
      "outputs": [
        {
          "output_type": "stream",
          "text": [
            "WARNING:tensorflow:From <ipython-input-6-4482bf9aaa3c>:1: Model.evaluate_generator (from tensorflow.python.keras.engine.training) is deprecated and will be removed in a future version.\n",
            "Instructions for updating:\n",
            "Please use Model.evaluate, which supports generators.\n"
          ],
          "name": "stdout"
        },
        {
          "output_type": "execute_result",
          "data": {
            "text/plain": [
              "[0.591740071773529, 0.807113528251648]"
            ]
          },
          "metadata": {
            "tags": []
          },
          "execution_count": 6
        }
      ]
    },
    {
      "cell_type": "code",
      "metadata": {
        "id": "LvMkl6MsOHey"
      },
      "source": [
        "uploaded=files.upload()     # this block load's an image and classify it using loaded model\n",
        "for fn in uploaded.keys():\n",
        "  path = fn\n",
        "  img=image.load_img(path,target_size=(224,224))\n",
        "  x=image.img_to_array(img)\n",
        "  x=np.expand_dims(x,axis=0)\n",
        "  images=np.vstack([x])\n",
        "  classes=loaded_model.predict(images,batch_size=10)\n",
        "  print(fn)\n",
        "  print(classes)"
      ],
      "execution_count": null,
      "outputs": []
    },
    {
      "cell_type": "code",
      "metadata": {
        "id": "ozoxMzA7DQOj"
      },
      "source": [
        "import numpy as np\n",
        "import cv2\n",
        "\n",
        "def crop_image_from_gray(img,tol=7):\n",
        "    if img.ndim ==2:\n",
        "        mask = img>tol\n",
        "        return img[np.ix_(mask.any(1),mask.any(0))]\n",
        "    elif img.ndim==3:\n",
        "        gray_img = cv2.cvtColor(img, cv2.COLOR_RGB2GRAY)\n",
        "        mask = gray_img>tol\n",
        "        \n",
        "        check_shape = img[:,:,0][np.ix_(mask.any(1),mask.any(0))].shape[0]\n",
        "        if (check_shape == 0): # image is too dark so that we crop out everything,\n",
        "            return img # return original image\n",
        "        else:\n",
        "            img1=img[:,:,0][np.ix_(mask.any(1),mask.any(0))]\n",
        "            img2=img[:,:,1][np.ix_(mask.any(1),mask.any(0))]\n",
        "            img3=img[:,:,2][np.ix_(mask.any(1),mask.any(0))]\n",
        "    #         print(img1.shape,img2.shape,img3.shape)\n",
        "            img = np.stack([img1,img2,img3],axis=-1)\n",
        "    #         print(img.shape)\n",
        "        return img\n",
        "    \n",
        "    \n",
        "def GaussianBlur_PreProcess(img, sigmaX):   \n",
        "    \"\"\"\n",
        "    Create circular crop around image centre    \n",
        "    \"\"\"    \n",
        "    img = crop_image_from_gray(img)    \n",
        "    \n",
        "    \n",
        "    height, width, depth = img.shape    \n",
        "    \n",
        "    x = int(width/2)\n",
        "    y = int(height/2)\n",
        "    r = np.amin((x,y))\n",
        "    \n",
        "    circle_img = np.zeros((height, width), np.uint8)\n",
        "    cv2.circle(circle_img, (x,y), int(r), 1, thickness=-1)\n",
        "    img = cv2.bitwise_and(img, img, mask=circle_img)\n",
        "    img = crop_image_from_gray(img)\n",
        "    img=cv2.addWeighted(img,4, cv2.GaussianBlur( img , (0,0) , sigmaX) ,-4 ,128)\n",
        "    return img"
      ],
      "execution_count": null,
      "outputs": []
    },
    {
      "cell_type": "code",
      "metadata": {
        "id": "YQ8l5QmTMB-F"
      },
      "source": [
        "\n",
        "for level in os.listdir(test_path):   #apply the gaussian blur to each image in the data set\n",
        "  for my_image in os.listdir(test_path + \"/\" + level):\n",
        "    im = cv2.imread(test_path + \"/\" + level + '/' + my_image)\n",
        "    res = GaussianBlur_PreProcess(im, 33)\n",
        "    path = '/content/prepros_data/TRAIN_Resizedvgg net/' + level + '/'\n",
        "    os.makedirs(path,exist_ok =True)\n",
        "    # cv2.imwrite('/content/prepros_data/TRAIN_Resizedvgg net/' + level + '/' + my_image, res)\n",
        "    cv2.imwrite(os.path.join(path , my_image), res)"
      ],
      "execution_count": null,
      "outputs": []
    },
    {
      "cell_type": "code",
      "metadata": {
        "id": "hx4Vv6lNMIvq"
      },
      "source": [
        "from zipfile import ZipFile\n",
        "import os\n",
        "from os.path import basename      #make a zip file for images after applying gaussian blur\n",
        "# create a ZipFile object\n",
        "for level in os.listdir('/content/prepros_data/TRAIN_Resizedvgg net'):\n",
        "  with ZipFile(level+'.zip', 'w') as zipObj:\n",
        "    # Iterate over all the files in directory\n",
        "    for folderName, subfolders, filenames in os.walk('/content/prepros_data/TRAIN_Resizedvgg net/'+level):\n",
        "        for filename in filenames:\n",
        "            #create complete filepath of file in directory\n",
        "            filePath = os.path.join(folderName, filename)\n",
        "            # Add file to zip\n",
        "            zipObj.write(filePath, basename(filePath))"
      ],
      "execution_count": null,
      "outputs": []
    },
    {
      "cell_type": "code",
      "metadata": {
        "id": "6sDMOdPKTLaK"
      },
      "source": [
        ""
      ],
      "execution_count": null,
      "outputs": []
    },
    {
      "cell_type": "code",
      "metadata": {
        "id": "iNTfXnJrTL3O"
      },
      "source": [
        ""
      ],
      "execution_count": null,
      "outputs": []
    }
  ]
}